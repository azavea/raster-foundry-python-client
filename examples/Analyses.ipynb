{
 "cells": [
  {
   "cell_type": "code",
   "execution_count": null,
   "metadata": {},
   "outputs": [],
   "source": [
    "from rasterfoundry.api import API\n",
    "refresh_token = '<Refresh Token>'\n",
    "api = API(refresh_token=refresh_token)"
   ]
  },
  {
   "cell_type": "markdown",
   "metadata": {},
   "source": [
    "# Getting analyses from the client"
   ]
  },
  {
   "cell_type": "code",
   "execution_count": null,
   "metadata": {
    "scrolled": true
   },
   "outputs": [],
   "source": [
    "analyses = api.analyses\n",
    "analysis = analyses[0]\n",
    "analysis"
   ]
  },
  {
   "cell_type": "markdown",
   "metadata": {},
   "source": [
    "# Visualizing analyses"
   ]
  },
  {
   "cell_type": "markdown",
   "metadata": {},
   "source": [
    "## Comparing to projects"
   ]
  },
  {
   "cell_type": "code",
   "execution_count": null,
   "metadata": {},
   "outputs": [],
   "source": [
    "m = analysis.get_map()\n",
    "\n",
    "projects = api.projects\n",
    "project = projects[0]\n",
    "project.compare(analysis, m)\n",
    "m"
   ]
  },
  {
   "cell_type": "markdown",
   "metadata": {},
   "source": [
    "## Exporting analyses using tile layers"
   ]
  },
  {
   "cell_type": "code",
   "execution_count": null,
   "metadata": {
    "scrolled": true
   },
   "outputs": [],
   "source": [
    "from ipyleaflet import DrawControl\n",
    "dc = DrawControl()\n",
    "\n",
    "m = analysis.get_map()\n",
    "m.add_control(dc)\n",
    "analysis.add_to(m)\n",
    "m\n",
    "\n",
    "# Draw a polygon on the map below"
   ]
  },
  {
   "cell_type": "code",
   "execution_count": null,
   "metadata": {},
   "outputs": [],
   "source": [
    "last_draw = dc.last_draw\n",
    "last_draw"
   ]
  },
  {
   "cell_type": "markdown",
   "metadata": {},
   "source": [
    "### Calculate a bounding box from the last draw"
   ]
  },
  {
   "cell_type": "code",
   "execution_count": null,
   "metadata": {},
   "outputs": [],
   "source": [
    "def snap_to_360(x_coord):\n",
    "    \"\"\"Snap an x coordinate to [-180, 180]\n",
    "    \n",
    "    Coordinates coming back from the API for some projects can be\n",
    "    outside this range, and coordinates in the bbox outside this\n",
    "    range make the export API upset. When it's upset, it returns\n",
    "    an array with just a single 0 in it, which is not an accurate\n",
    "    representation of the project normally.\n",
    "    \"\"\"\n",
    "    return x_coord - round((x_coord + 180) / 360, 0) * 360\n",
    "\n",
    "def geom_to_bbox(geom):\n",
    "    coords = geom['geometry']['coordinates'][0]\n",
    "    min_x = snap_to_360(min([point[0] for point in coords]))\n",
    "    min_y = min([point[1] for point in coords])\n",
    "    max_x = snap_to_360(max([point[0] for point in coords]))\n",
    "    max_y = max([point[1] for point in coords])\n",
    "    return ','.join(map(str, [min_x, min_y, max_x, max_y]))"
   ]
  },
  {
   "cell_type": "code",
   "execution_count": null,
   "metadata": {
    "scrolled": true
   },
   "outputs": [],
   "source": [
    "bbox = geom_to_bbox(last_draw)\n",
    "bbox"
   ]
  },
  {
   "cell_type": "markdown",
   "metadata": {},
   "source": [
    "### Request a synchronous export for our area "
   ]
  },
  {
   "cell_type": "code",
   "execution_count": null,
   "metadata": {},
   "outputs": [],
   "source": [
    "resp = analysis.get_export(bbox=bbox)\n",
    "resp"
   ]
  },
  {
   "cell_type": "markdown",
   "metadata": {},
   "source": [
    "### Visualize the export\n",
    "\n",
    "If you don't have rasterio or matplotlib installed, you can run the cell at the bottom of this notebook"
   ]
  },
  {
   "cell_type": "code",
   "execution_count": null,
   "metadata": {},
   "outputs": [],
   "source": [
    "from rasterio.io import MemoryFile\n",
    "import matplotlib.pyplot as plt\n",
    "\n",
    "data = resp.content\n",
    "with MemoryFile(data) as memfile:\n",
    "    with memfile.open() as dataset:\n",
    "        plt.imshow(dataset.read(1), cmap='Purples')"
   ]
  },
  {
   "cell_type": "code",
   "execution_count": null,
   "metadata": {},
   "outputs": [],
   "source": [
    "%%bash\n",
    "pip install numpy matplotlib rasterio==1.0a12"
   ]
  }
 ],
 "metadata": {
  "kernelspec": {
   "display_name": "Python 2",
   "language": "python",
   "name": "python2"
  },
  "language_info": {
   "codemirror_mode": {
    "name": "ipython",
    "version": 2
   },
   "file_extension": ".py",
   "mimetype": "text/x-python",
   "name": "python",
   "nbconvert_exporter": "python",
   "pygments_lexer": "ipython2",
   "version": "2.7.14"
  }
 },
 "nbformat": 4,
 "nbformat_minor": 2
}
