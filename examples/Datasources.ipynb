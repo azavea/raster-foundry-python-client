{
 "cells": [
  {
   "cell_type": "markdown",
   "metadata": {},
   "source": [
    "# Datasources"
   ]
  },
  {
   "cell_type": "code",
   "execution_count": null,
   "metadata": {},
   "outputs": [],
   "source": [
    "import sys\n",
    "sys.path.append('/Users/asu/Documents/work/azavea/raster-foundry-python-client')"
   ]
  },
  {
   "cell_type": "code",
   "execution_count": null,
   "metadata": {},
   "outputs": [],
   "source": [
    "from rasterfoundry.api import API\n",
    "from rasterfoundry.models.datasource import Datasource\n",
    "refresh_token = '2oECtdfzvjjbmao4iNtCyLhrYeMb6Y_r3gQIAkMiSDkbg'\n",
    "api = API(refresh_token=refresh_token, host='localhost:9091', scheme='http')"
   ]
  },
  {
   "cell_type": "code",
   "execution_count": null,
   "metadata": {},
   "outputs": [],
   "source": [
    "api.get_datasources()"
   ]
  },
  {
   "cell_type": "code",
   "execution_count": null,
   "metadata": {},
   "outputs": [],
   "source": [
    "band_one = Datasource.create_datasource_band('red', '0', 100.0)\n",
    "band_two = Datasource.create_datasource_band('green', '1', 200.0)\n",
    "band_three = Datasource.create_datasource_band('blue', '2', 300.0)\n",
    "result = Datasource.create(api, 'Test Datasource 5', [band_one, band_two, band_three])"
   ]
  },
  {
   "cell_type": "code",
   "execution_count": null,
   "metadata": {},
   "outputs": [],
   "source": [
    "datasource = api.get_datasource_by_id(result.id)\n",
    "datasource.name = datasource.name + ' updated'\n",
    "datasource_dict = vars(datasource)['_Model__dict']\n",
    "datasource_dict['createdAt'] = datasource.createdAt.isoformat()\n",
    "datasource_dict['modifiedAt'] = datasource.modifiedAt.isoformat()\n",
    "datasource_dict\n",
    "Datasource.update(api, datasource.id, datasource_dict)"
   ]
  },
  {
   "cell_type": "code",
   "execution_count": null,
   "metadata": {},
   "outputs": [],
   "source": []
  }
 ],
 "metadata": {
  "kernelspec": {
   "display_name": "Python 2",
   "language": "python",
   "name": "python2"
  },
  "language_info": {
   "codemirror_mode": {
    "name": "ipython",
    "version": 3
   },
   "file_extension": ".py",
   "mimetype": "text/x-python",
   "name": "python",
   "nbconvert_exporter": "python",
   "pygments_lexer": "ipython3",
   "version": "3.7.0"
  }
 },
 "nbformat": 4,
 "nbformat_minor": 2
}
